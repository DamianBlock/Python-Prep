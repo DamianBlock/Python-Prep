{
 "cells": [
  {
   "attachments": {},
   "cell_type": "markdown",
   "metadata": {},
   "source": [
    "## Flujos de Control"
   ]
  },
  {
   "attachments": {},
   "cell_type": "markdown",
   "metadata": {},
   "source": [
    "1) Crear una variable que contenga un elemento del conjunto de números enteros y luego imprimir por pantalla si es mayor o menor a cero"
   ]
  },
  {
   "cell_type": "code",
   "execution_count": 8,
   "metadata": {},
   "outputs": [
    {
     "name": "stdout",
     "output_type": "stream",
     "text": [
      "La variable es menor a 10\n"
     ]
    }
   ],
   "source": [
    "var1 = 5\n",
    "if(var1 <10):\n",
    "    print('La variable es menor a 10')\n",
    "elif (var1>10):\n",
    "    print('La variable es mayor a 10')\n",
    "else:\n",
    "    print('La variable es igual a 10')"
   ]
  },
  {
   "attachments": {},
   "cell_type": "markdown",
   "metadata": {},
   "source": [
    "2) Crear dos variables y un condicional que informe si son del mismo tipo de dato"
   ]
  },
  {
   "cell_type": "code",
   "execution_count": 9,
   "metadata": {},
   "outputs": [
    {
     "name": "stdout",
     "output_type": "stream",
     "text": [
      "var1 es del mismo tipo de datos que var2\n"
     ]
    }
   ],
   "source": [
    "var1 = 2\n",
    "var2 = '2'\n",
    "if(type(var1) == type(var2)):\n",
    "    print('var1 no es del mismo tipo de datos que var2')\n",
    "else:\n",
    "    print('var1 es del mismo tipo de datos que var2')"
   ]
  },
  {
   "attachments": {},
   "cell_type": "markdown",
   "metadata": {},
   "source": [
    "3) Para los valores enteros del 1 al 20, imprimir por pantalla si es par o impar"
   ]
  },
  {
   "cell_type": "code",
   "execution_count": 24,
   "metadata": {},
   "outputs": [
    {
     "name": "stdout",
     "output_type": "stream",
     "text": [
      "El numero 1 es impar\n",
      "El numero 2 es par\n",
      "El numero 3 es impar\n",
      "El numero 4 es par\n",
      "El numero 5 es impar\n",
      "El numero 6 es par\n",
      "El numero 7 es impar\n",
      "El numero 8 es par\n",
      "El numero 9 es impar\n",
      "El numero 10 es par\n",
      "El numero 11 es impar\n",
      "El numero 12 es par\n",
      "El numero 13 es impar\n",
      "El numero 14 es par\n",
      "El numero 15 es impar\n",
      "El numero 16 es par\n",
      "El numero 17 es impar\n",
      "El numero 18 es par\n",
      "El numero 19 es impar\n"
     ]
    }
   ],
   "source": [
    "for i in range(1,20):\n",
    "    if i % 2 == 0:\n",
    "        print('El numero', str(i), 'es par')\n",
    "    else :\n",
    "        print('El numero', str(i), 'es impar')"
   ]
  },
  {
   "attachments": {},
   "cell_type": "markdown",
   "metadata": {},
   "source": [
    "4) En un ciclo for mostrar para los valores entre 0 y 5 el resultado de elevarlo a la potencia igual a 3"
   ]
  },
  {
   "cell_type": "code",
   "execution_count": 20,
   "metadata": {},
   "outputs": [
    {
     "name": "stdout",
     "output_type": "stream",
     "text": [
      "La potencia de 0 elevado a la 3ra es: 0\n",
      "La potencia de 1 elevado a la 3ra es: 1\n",
      "La potencia de 2 elevado a la 3ra es: 8\n",
      "La potencia de 3 elevado a la 3ra es: 27\n",
      "La potencia de 4 elevado a la 3ra es: 64\n",
      "La potencia de 5 elevado a la 3ra es: 125\n"
     ]
    }
   ],
   "source": [
    "for i in range(0,6):\n",
    "\n",
    "        print('La potencia de', str(i), 'elevado a la 3ra es:', i ** 3 )"
   ]
  },
  {
   "attachments": {},
   "cell_type": "markdown",
   "metadata": {},
   "source": [
    "5) Crear una variable que contenga un número entero y realizar un ciclo for la misma cantidad de ciclos"
   ]
  },
  {
   "cell_type": "code",
   "execution_count": 28,
   "metadata": {},
   "outputs": [
    {
     "name": "stdout",
     "output_type": "stream",
     "text": [
      "El numero de ciclo es: 1\n",
      "El numero de ciclo es: 2\n",
      "El numero de ciclo es: 3\n",
      "El numero de ciclo es: 4\n",
      "El numero de ciclo es: 5\n",
      "El numero de ciclo es: 6\n",
      "El numero de ciclo es: 7\n",
      "El numero de ciclo es: 8\n",
      "El numero de ciclo es: 9\n",
      "El numero de ciclo es: 10\n"
     ]
    }
   ],
   "source": [
    "a = 10\n",
    "i = 0\n",
    "for i in range(i,a):\n",
    "    i = i + 1\n",
    "    print('El numero de ciclo es:', str(i))\n",
    "    "
   ]
  },
  {
   "attachments": {},
   "cell_type": "markdown",
   "metadata": {},
   "source": [
    "6) Utilizar un ciclo while para realizar el factorial de un número guardado en una variable, sólo si la variable contiene un número entero mayor a 0"
   ]
  },
  {
   "cell_type": "code",
   "execution_count": 29,
   "metadata": {},
   "outputs": [
    {
     "name": "stdout",
     "output_type": "stream",
     "text": [
      "120\n"
     ]
    }
   ],
   "source": [
    "numero = 5\n",
    "factorial = 1\n",
    "for i in range(2, (numero + 1)):\n",
    "    factorial = i * factorial\n",
    "print(factorial)"
   ]
  },
  {
   "attachments": {},
   "cell_type": "markdown",
   "metadata": {},
   "source": [
    "7) Crear un ciclo for dentro de un ciclo while"
   ]
  },
  {
   "cell_type": "code",
   "execution_count": 36,
   "metadata": {},
   "outputs": [
    {
     "name": "stdout",
     "output_type": "stream",
     "text": [
      "estamos creando un ciclo for dentro de un ciclo while que se repite 1 veces\n",
      "estamos creando un ciclo for dentro de un ciclo while que se repite 1 veces\n",
      "estamos creando un ciclo for dentro de un ciclo while que se repite 2 veces\n",
      "estamos creando un ciclo for dentro de un ciclo while que se repite 1 veces\n",
      "estamos creando un ciclo for dentro de un ciclo while que se repite 2 veces\n",
      "estamos creando un ciclo for dentro de un ciclo while que se repite 3 veces\n",
      "estamos creando un ciclo for dentro de un ciclo while que se repite 1 veces\n",
      "estamos creando un ciclo for dentro de un ciclo while que se repite 2 veces\n",
      "estamos creando un ciclo for dentro de un ciclo while que se repite 3 veces\n",
      "estamos creando un ciclo for dentro de un ciclo while que se repite 4 veces\n",
      "estamos creando un ciclo for dentro de un ciclo while que se repite 1 veces\n",
      "estamos creando un ciclo for dentro de un ciclo while que se repite 2 veces\n",
      "estamos creando un ciclo for dentro de un ciclo while que se repite 3 veces\n",
      "estamos creando un ciclo for dentro de un ciclo while que se repite 4 veces\n",
      "estamos creando un ciclo for dentro de un ciclo while que se repite 5 veces\n",
      "estamos creando un ciclo for dentro de un ciclo while que se repite 1 veces\n",
      "estamos creando un ciclo for dentro de un ciclo while que se repite 2 veces\n",
      "estamos creando un ciclo for dentro de un ciclo while que se repite 3 veces\n",
      "estamos creando un ciclo for dentro de un ciclo while que se repite 4 veces\n",
      "estamos creando un ciclo for dentro de un ciclo while que se repite 5 veces\n",
      "estamos creando un ciclo for dentro de un ciclo while que se repite 6 veces\n",
      "estamos creando un ciclo for dentro de un ciclo while que se repite 1 veces\n",
      "estamos creando un ciclo for dentro de un ciclo while que se repite 2 veces\n",
      "estamos creando un ciclo for dentro de un ciclo while que se repite 3 veces\n",
      "estamos creando un ciclo for dentro de un ciclo while que se repite 4 veces\n",
      "estamos creando un ciclo for dentro de un ciclo while que se repite 5 veces\n",
      "estamos creando un ciclo for dentro de un ciclo while que se repite 6 veces\n",
      "estamos creando un ciclo for dentro de un ciclo while que se repite 7 veces\n",
      "estamos creando un ciclo for dentro de un ciclo while que se repite 1 veces\n",
      "estamos creando un ciclo for dentro de un ciclo while que se repite 2 veces\n",
      "estamos creando un ciclo for dentro de un ciclo while que se repite 3 veces\n",
      "estamos creando un ciclo for dentro de un ciclo while que se repite 4 veces\n",
      "estamos creando un ciclo for dentro de un ciclo while que se repite 5 veces\n",
      "estamos creando un ciclo for dentro de un ciclo while que se repite 6 veces\n",
      "estamos creando un ciclo for dentro de un ciclo while que se repite 7 veces\n",
      "estamos creando un ciclo for dentro de un ciclo while que se repite 8 veces\n",
      "estamos creando un ciclo for dentro de un ciclo while que se repite 1 veces\n",
      "estamos creando un ciclo for dentro de un ciclo while que se repite 2 veces\n",
      "estamos creando un ciclo for dentro de un ciclo while que se repite 3 veces\n",
      "estamos creando un ciclo for dentro de un ciclo while que se repite 4 veces\n",
      "estamos creando un ciclo for dentro de un ciclo while que se repite 5 veces\n",
      "estamos creando un ciclo for dentro de un ciclo while que se repite 6 veces\n",
      "estamos creando un ciclo for dentro de un ciclo while que se repite 7 veces\n",
      "estamos creando un ciclo for dentro de un ciclo while que se repite 8 veces\n",
      "estamos creando un ciclo for dentro de un ciclo while que se repite 9 veces\n"
     ]
    }
   ],
   "source": [
    "n = 0\n",
    "while (n<10):\n",
    "    n = n + 1     \n",
    "    for i in range(1, n):               \n",
    "        print('estamos creando un ciclo for dentro de un ciclo while que se repite',str(i), 'veces')\n",
    "        "
   ]
  },
  {
   "attachments": {},
   "cell_type": "markdown",
   "metadata": {},
   "source": [
    "8) Crear un ciclo while dentro de un ciclo for"
   ]
  },
  {
   "cell_type": "code",
   "execution_count": 44,
   "metadata": {},
   "outputs": [
    {
     "name": "stdout",
     "output_type": "stream",
     "text": [
      "Estamos creando un ciclo while con numero 10 dentro de un for y se repite 0 veces\n",
      "Estamos creando un ciclo while con numero 10 dentro de un for y se repite 1 veces\n",
      "Estamos creando un ciclo while con numero 10 dentro de un for y se repite 2 veces\n",
      "Estamos creando un ciclo while con numero 10 dentro de un for y se repite 3 veces\n",
      "Estamos creando un ciclo while con numero 10 dentro de un for y se repite 4 veces\n",
      "Estamos creando un ciclo while con numero 10 dentro de un for y se repite 5 veces\n",
      "Estamos creando un ciclo while con numero 10 dentro de un for y se repite 6 veces\n",
      "Estamos creando un ciclo while con numero 10 dentro de un for y se repite 7 veces\n",
      "Estamos creando un ciclo while con numero 10 dentro de un for y se repite 8 veces\n",
      "Estamos creando un ciclo while con numero 10 dentro de un for y se repite 9 veces\n"
     ]
    }
   ],
   "source": [
    "n = 10\n",
    "for i in range(0 , n):    \n",
    "    while(n<10):\n",
    "        n -= 1\n",
    "    print('Estamos creando un ciclo while con numero '+ str(n), 'dentro de un for y se repite', str(i), 'veces')"
   ]
  },
  {
   "attachments": {},
   "cell_type": "markdown",
   "metadata": {},
   "source": [
    "9) Imprimir los números primos existentes entre 0 y 30"
   ]
  },
  {
   "cell_type": "code",
   "execution_count": 67,
   "metadata": {},
   "outputs": [
    {
     "name": "stdout",
     "output_type": "stream",
     "text": [
      "el numero  0 es primo\n",
      "el numero  1 es primo\n",
      "el numero  2 es primo\n",
      "el numero  3 es primo\n",
      "el numero  5 es primo\n",
      "el numero  7 es primo\n",
      "el numero  11 es primo\n",
      "el numero  13 es primo\n",
      "el numero  17 es primo\n",
      "el numero  19 es primo\n",
      "el numero  23 es primo\n",
      "el numero  29 es primo\n"
     ]
    }
   ],
   "source": [
    "tope = 30\n",
    "numero = 0\n",
    "primo = True\n",
    "while (numero < tope):\n",
    "    for division in range(2, numero):\n",
    "        if (numero % division == 0):\n",
    "            primo = False    \n",
    "    if(primo):\n",
    "        print('el numero ',str(numero), 'es primo')\n",
    "    else:\n",
    "       primo = True \n",
    "    numero += 1"
   ]
  },
  {
   "attachments": {},
   "cell_type": "markdown",
   "metadata": {},
   "source": [
    "10) ¿Se puede mejorar el proceso del punto 9? Utilizar las sentencias break y/ó continue para tal fin"
   ]
  },
  {
   "cell_type": "code",
   "execution_count": 68,
   "metadata": {},
   "outputs": [
    {
     "name": "stdout",
     "output_type": "stream",
     "text": [
      "el numero  0 es primo\n",
      "el numero  1 es primo\n",
      "el numero  2 es primo\n",
      "el numero  3 es primo\n",
      "el numero  5 es primo\n",
      "el numero  7 es primo\n",
      "el numero  11 es primo\n",
      "el numero  13 es primo\n",
      "el numero  17 es primo\n",
      "el numero  19 es primo\n",
      "el numero  23 es primo\n",
      "el numero  29 es primo\n"
     ]
    }
   ],
   "source": [
    "numero = 0\n",
    "primo = True\n",
    "while (numero < tope):\n",
    "    for division in range(2, numero):\n",
    "        if (numero % division == 0):\n",
    "            primo = False    \n",
    "            break\n",
    "    if(primo):\n",
    "        print('el numero ',str(numero), 'es primo')\n",
    "    else:\n",
    "       primo = True \n",
    "    numero += 1"
   ]
  },
  {
   "attachments": {},
   "cell_type": "markdown",
   "metadata": {},
   "source": [
    "11) En los puntos 9 y 10, se diseño un código que encuentra números primos y además se lo optimizó. ¿Es posible saber en qué medida se optimizó?"
   ]
  },
  {
   "cell_type": "code",
   "execution_count": 70,
   "metadata": {},
   "outputs": [
    {
     "name": "stdout",
     "output_type": "stream",
     "text": [
      "el numero  0 es primo\n",
      "el numero  1 es primo\n",
      "el numero  2 es primo\n",
      "el numero  3 es primo\n",
      "el numero  5 es primo\n",
      "el numero  7 es primo\n",
      "el numero  11 es primo\n",
      "el numero  13 es primo\n",
      "el numero  17 es primo\n",
      "el numero  19 es primo\n",
      "el numero  23 es primo\n",
      "el numero  29 es primo\n",
      "La cantidad de ciclos sin break son:  378\n"
     ]
    }
   ],
   "source": [
    "ciclosSinBreak = 0\n",
    "tope = 30\n",
    "numero = 0\n",
    "primo = True\n",
    "while (numero < tope):\n",
    "    for division in range(2, numero):\n",
    "        ciclosSinBreak = ciclosSinBreak + 1\n",
    "        if (numero % division == 0):\n",
    "            primo = False                \n",
    "    if(primo):\n",
    "        print('el numero ',str(numero), 'es primo')\n",
    "    else:\n",
    "       primo = True \n",
    "    numero += 1\n",
    "print('La cantidad de ciclos sin break son: ', str(ciclosSinBreak) )\n"
   ]
  },
  {
   "attachments": {},
   "cell_type": "markdown",
   "metadata": {},
   "source": [
    "12) Aplicando continue, armar un ciclo while que solo imprima los valores divisibles por 12, dentro del rango de números de 100 a 300"
   ]
  },
  {
   "cell_type": "code",
   "execution_count": 71,
   "metadata": {},
   "outputs": [
    {
     "name": "stdout",
     "output_type": "stream",
     "text": [
      "el numero  0 es primo\n",
      "el numero  1 es primo\n",
      "el numero  2 es primo\n",
      "el numero  3 es primo\n",
      "el numero  5 es primo\n",
      "el numero  7 es primo\n",
      "el numero  11 es primo\n",
      "el numero  13 es primo\n",
      "el numero  17 es primo\n",
      "el numero  19 es primo\n",
      "el numero  23 es primo\n",
      "el numero  29 es primo\n",
      "La cantidad de ciclos con break son:  134\n"
     ]
    }
   ],
   "source": [
    "ciclosConBreak = 0\n",
    "tope = 30\n",
    "numero = 0\n",
    "primo = True\n",
    "while (numero < tope):\n",
    "    for division in range(2, numero):\n",
    "        ciclosConBreak = ciclosConBreak + 1\n",
    "        if (numero % division == 0):\n",
    "            primo = False            \n",
    "            break    \n",
    "    if(primo):\n",
    "        print('el numero ',str(numero), 'es primo')\n",
    "    else:\n",
    "       primo = True \n",
    "    numero += 1\n",
    "print('La cantidad de ciclos con break son: ', str(ciclosConBreak) )"
   ]
  },
  {
   "attachments": {},
   "cell_type": "markdown",
   "metadata": {},
   "source": [
    "13) Utilizar la función **input()** que permite hacer ingresos por teclado, para encontrar números primos y dar la opción al usario de buscar el siguiente"
   ]
  },
  {
   "cell_type": "code",
   "execution_count": 3,
   "metadata": {},
   "outputs": [
    {
     "name": "stdout",
     "output_type": "stream",
     "text": [
      "1\n",
      "¿Desea encontrar el siguiente número primo?\n",
      "2\n",
      "¿Desea encontrar el siguiente número primo?\n",
      "Se finaliza el proceso\n"
     ]
    }
   ],
   "source": [
    "n = 1\n",
    "sigue = 1\n",
    "primo = True\n",
    "while (sigue == 1):\n",
    "    for div in range(2, n):\n",
    "        if (n % div == 0):\n",
    "            primo = False\n",
    "            break\n",
    "    if (primo):\n",
    "        print(n)\n",
    "        print('¿Desea encontrar el siguiente número primo?')\n",
    "        if (input() != '1'):\n",
    "            print('Se finaliza el proceso')\n",
    "            break\n",
    "    else:\n",
    "        primo = True\n",
    "    n += 1"
   ]
  },
  {
   "attachments": {},
   "cell_type": "markdown",
   "metadata": {},
   "source": [
    "14) Crear un ciclo while que encuentre dentro del rango de 100 a 300 el primer número divisible por 3 y además múltiplo de 6"
   ]
  },
  {
   "cell_type": "code",
   "execution_count": 4,
   "metadata": {},
   "outputs": [
    {
     "name": "stdout",
     "output_type": "stream",
     "text": [
      "El número es:  102\n"
     ]
    }
   ],
   "source": [
    "n = 100\n",
    "while(n<=300):\n",
    "    if (n % 6 == 0):\n",
    "        print('El número es: ', str(n))\n",
    "        break\n",
    "    n += 1"
   ]
  }
 ],
 "metadata": {
  "interpreter": {
   "hash": "c85384e4cb51c8b72350f3a8712cc8351fdc3955e32a27f9b60c6242ab125f01"
  },
  "kernelspec": {
   "display_name": "Python 3 (ipykernel)",
   "language": "python",
   "name": "python3"
  },
  "language_info": {
   "codemirror_mode": {
    "name": "ipython",
    "version": 3
   },
   "file_extension": ".py",
   "mimetype": "text/x-python",
   "name": "python",
   "nbconvert_exporter": "python",
   "pygments_lexer": "ipython3",
   "version": "3.11.9"
  }
 },
 "nbformat": 4,
 "nbformat_minor": 4
}
